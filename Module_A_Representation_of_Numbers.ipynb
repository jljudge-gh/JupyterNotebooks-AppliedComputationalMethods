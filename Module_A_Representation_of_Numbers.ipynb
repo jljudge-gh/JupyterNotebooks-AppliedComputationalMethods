{
  "nbformat": 4,
  "nbformat_minor": 0,
  "metadata": {
    "colab": {
      "name": "Module A: Representation of Numbers.ipynb",
      "provenance": [],
      "toc_visible": true,
      "authorship_tag": "ABX9TyNFOKDYO+e2C34qKpodI/IE",
      "include_colab_link": true
    },
    "kernelspec": {
      "name": "python3",
      "display_name": "Python 3"
    },
    "language_info": {
      "name": "python"
    }
  },
  "cells": [
    {
      "cell_type": "markdown",
      "metadata": {
        "id": "view-in-github",
        "colab_type": "text"
      },
      "source": [
        "<a href=\"https://colab.research.google.com/github/jljudge-gh/JupyterNotebooks-AppliedComputationalMethods/blob/main/Module_A_Representation_of_Numbers.ipynb\" target=\"_parent\"><img src=\"https://colab.research.google.com/assets/colab-badge.svg\" alt=\"Open In Colab\"/></a>"
      ]
    },
    {
      "cell_type": "markdown",
      "source": [
        "# Module A: Representation of Numbers\n",
        "## Sections 9.1, 9.2, 9.3"
      ],
      "metadata": {
        "id": "F1w97aObQ_n_"
      }
    },
    {
      "cell_type": "markdown",
      "source": [
        "\n",
        "There are many ways of representing or writing numbers. In this notebook, we will explore different representations of numbers in Python. Additionally, we will introduce the roundoff errors that associated with the representation of numbers."
      ],
      "metadata": {
        "id": "RlfukiWVREE3"
      }
    },
    {
      "cell_type": "markdown",
      "source": [
        "### 9.1: Base-N and Binary\n"
      ],
      "metadata": {
        "id": "PnNtgjuMTSnx"
      }
    },
    {
      "cell_type": "markdown",
      "source": [
        "The **decimal system** is a way of representing numbers that we are all familiar with. In the decimal system, a number is represented by a list of digits from 0 to 9, where each digit represents the coefficient for a power of 10.\n",
        "\n",
        ">  EXAMPLE: The decimal expansion for $147.3$ is as follows:\n",
        ">  $ 147.3 = 1 \\cdot 10^2 + 4 \\cdot 10^1 + 7 \\cdot 10^0 + 3 \\cdot 10^{-1}$\n",
        "\n",
        "Since each digit is associated with a power of 10, the decimal system is also known as base10 because it is based on 10 digits (0 to 9). \n",
        "\n",
        "A very important representation of numbers for computers is base2 or binary numbers. In binary, the only available digits are 0 and 1, and each digit is the coefficient of a power of 2. Digits in a binary number are also known as a bit. Note that binary numbers are still numbers, and so addition and multiplication are defined on them exactly as you learned in grade school."
      ],
      "metadata": {
        "id": "FTA8UT0xTiiY"
      }
    },
    {
      "cell_type": "markdown",
      "source": [
        "#### Number Representation in Python"
      ],
      "metadata": {
        "id": "8OzJuC-EURzT"
      }
    },
    {
      "cell_type": "markdown",
      "source": [
        "##### Representing numbers in binary, octal and hexadecimal"
      ],
      "metadata": {
        "id": "_80DITSCX5Nf"
      }
    },
    {
      "cell_type": "markdown",
      "source": [
        "Python includes three numeric types to represent numbers: integers, float, and complex number. Integers can be binary, octal, and hexadecimal values.\n",
        "\n",
        "To represent an integer, specifically in decimal representation, we don't need to do anything special — just write the integer, as it is."
      ],
      "metadata": {
        "id": "FT8_TSQ0UWOU"
      }
    },
    {
      "cell_type": "code",
      "execution_count": 12,
      "metadata": {
        "id": "_i5ei1j7QzJ9"
      },
      "outputs": [],
      "source": [
        "x = 10 # 10 in decimal notation"
      ]
    },
    {
      "cell_type": "markdown",
      "source": [
        "However, to represent a number in binary, hexadecimal or octal notation, we need to use a ***prefix***.\n",
        "\n",
        "For binary the prefix is `0b`; for hexadecimal, it's `0x`; and for octal it's `0o1.\n",
        "\n",
        "We put a prefix, so that Python knows exactly how to convert the number into a decimal equivalent.\n",
        "\n",
        "All prefixes start with a `0` and end with an alphabet, which can be lowercase or uppercase. For instance, both the prefixes `0b` and `0B` are the same. However, owing to the fact that in uppercase, `0O` (octal prefix) might look like two zeroes, it's preferred to use lowercase alphabets.\n",
        "\n",
        ">   The '`b`' in `0b` comes from '***b***inary'; the '`x`' in `0x` comes from 'he***x***adecimal'; and the '`o'` in `0o` comes from ***o***ctal.\n",
        "\n",
        "A number written in this way gets converted from the respective base into a decimal integer by Python.\n",
        "\n",
        "Let's see some examples in all three of these notations:"
      ],
      "metadata": {
        "id": "K25E34ELU_EY"
      }
    },
    {
      "cell_type": "code",
      "source": [
        "x = 15\n",
        "\n",
        "bin_x = 0b1111\n",
        "hex_x = 0xf\n",
        "oct_x = 0o17\n",
        "\n",
        "print(bin_x)\n",
        "print(type(bin_x))\n",
        "print(hex_x)\n",
        "print(type(hex_x))\n",
        "print(oct_x)\n",
        "print(type(oct_x))\n"
      ],
      "metadata": {
        "colab": {
          "base_uri": "https://localhost:8080/"
        },
        "id": "BZp-iR2JVfEf",
        "outputId": "5c6742c5-2b77-4ba4-e5b1-488335708d0c"
      },
      "execution_count": 11,
      "outputs": [
        {
          "output_type": "stream",
          "name": "stdout",
          "text": [
            "15\n",
            "<class 'int'>\n",
            "15\n",
            "<class 'int'>\n",
            "15\n",
            "<class 'int'>\n"
          ]
        }
      ]
    },
    {
      "cell_type": "markdown",
      "source": [
        "In line 3, `0b1111` represents the binary number `1111` which is $15$ in decimal, and gets converted into this decimal equivalent. If we print `bin_x` we see that it is $15$.\n",
        "\n",
        "Moving on, `0xf` represents the hexadecimal number `f`, which is also $15$ in decimal, and ultimately gets converted into this decimal number.\n",
        "\n",
        "The number `0o17` denotes the octal number $17$ which is once again, equal to $15$.\n",
        "\n",
        "As you can see all these are of type `int`."
      ],
      "metadata": {
        "id": "4mkpYmspXea9"
      }
    },
    {
      "cell_type": "markdown",
      "source": [
        "##### Converting to bin, hex and oct\n"
      ],
      "metadata": {
        "id": "0XX74TD5X1MO"
      }
    },
    {
      "cell_type": "markdown",
      "source": [
        "It's also possible to go from decimal to these 3 representations. The `bin()`, `hex()` and `oct()` functions take a single argument which is an integer, and return its representation in their corresponding number system.\n",
        "\n",
        "The return value of each of these functions is a string, that is preceded by the respective number system's prefix — `0b` for binary, `0x` for hexadecimal and `0o` for octal.\n",
        "\n",
        "The snippet below illustrates a couple of conversions:"
      ],
      "metadata": {
        "id": "rtH11F7tX_jD"
      }
    },
    {
      "cell_type": "code",
      "source": [
        "bin(20)"
      ],
      "metadata": {
        "colab": {
          "base_uri": "https://localhost:8080/",
          "height": 35
        },
        "id": "UQQ67Lj-XGpe",
        "outputId": "6daeea2d-d9d5-456c-f9ac-1e4282ac01d1"
      },
      "execution_count": 13,
      "outputs": [
        {
          "output_type": "execute_result",
          "data": {
            "application/vnd.google.colaboratory.intrinsic+json": {
              "type": "string"
            },
            "text/plain": [
              "'0b10100'"
            ]
          },
          "metadata": {},
          "execution_count": 13
        }
      ]
    },
    {
      "cell_type": "code",
      "source": [
        "hex(17)"
      ],
      "metadata": {
        "colab": {
          "base_uri": "https://localhost:8080/",
          "height": 35
        },
        "id": "xM8wOxmmYWIi",
        "outputId": "4a2f58ae-7f79-40de-b72a-67e2d54752d9"
      },
      "execution_count": 14,
      "outputs": [
        {
          "output_type": "execute_result",
          "data": {
            "application/vnd.google.colaboratory.intrinsic+json": {
              "type": "string"
            },
            "text/plain": [
              "'0x11'"
            ]
          },
          "metadata": {},
          "execution_count": 14
        }
      ]
    },
    {
      "cell_type": "code",
      "source": [
        "oct(30)"
      ],
      "metadata": {
        "colab": {
          "base_uri": "https://localhost:8080/",
          "height": 35
        },
        "id": "YFaTy5naYWLS",
        "outputId": "a77adbcc-209b-4065-ab2f-f36bf09c6686"
      },
      "execution_count": 15,
      "outputs": [
        {
          "output_type": "execute_result",
          "data": {
            "application/vnd.google.colaboratory.intrinsic+json": {
              "type": "string"
            },
            "text/plain": [
              "'0o36'"
            ]
          },
          "metadata": {},
          "execution_count": 15
        }
      ]
    },
    {
      "cell_type": "markdown",
      "source": [
        "While we can use the built-in `bin()` function, the following Python code will demonstrate a naive method using loop function returning a binary string."
      ],
      "metadata": {
        "id": "gii5lZrzYsQ0"
      }
    },
    {
      "cell_type": "code",
      "source": [
        "def Binary(n):\n",
        "     binary = \"\"\n",
        "     i = 0\n",
        "     while n > 0 and i<=8:\n",
        "         s1 = str(int(n%2))\n",
        "         binary = binary + s1\n",
        "         n /= 2\n",
        "         i = i+1\n",
        "         d = binary[::-1]\n",
        "     return d"
      ],
      "metadata": {
        "id": "wmBUOPGTYWNh"
      },
      "execution_count": 16,
      "outputs": []
    },
    {
      "cell_type": "code",
      "source": [
        "print(\"The binary representation of 100 (using loops) is : \",end=\"\")\n",
        "print(Binary(100))"
      ],
      "metadata": {
        "colab": {
          "base_uri": "https://localhost:8080/"
        },
        "id": "kuN_3z-SYWPH",
        "outputId": "686563f9-b3fa-4da8-e52b-bde07ef9b62a"
      },
      "execution_count": 19,
      "outputs": [
        {
          "output_type": "stream",
          "name": "stdout",
          "text": [
            "The binary representation of 100 (using loops) is : 001100100\n"
          ]
        }
      ]
    },
    {
      "cell_type": "markdown",
      "source": [
        "### 9.2: Floating Point Numbers\n"
      ],
      "metadata": {
        "id": "FS8oUrzxZnJY"
      }
    },
    {
      "cell_type": "markdown",
      "source": [
        "#### Float Type in Python and its Methods"
      ],
      "metadata": {
        "id": "oPmerp2Manc7"
      }
    },
    {
      "cell_type": "markdown",
      "source": [
        "The float type in Python represents the floating point number. Float is used to represent real numbers and is written with a decimal point dividing the integer and fractional parts. For example, `97.98, 32.3+e18, -32.54e100` all are floating point numbers.\n",
        "\n",
        "Python float values are represented as 64-bit double-precision values. The maximum value any floating-point number can be is approx `1.8 x 10308`. Any number greater than this will be indicated by the string inf in Python."
      ],
      "metadata": {
        "id": "K-ahjbGkas5e"
      }
    },
    {
      "cell_type": "code",
      "source": [
        "# Python code to demonstrate float values. \n",
        "print(1.7e308)\n",
        "  \n",
        "# greater than 1.8 * 10^308\n",
        "# will print 'inf'\n",
        "print(1.82e308)"
      ],
      "metadata": {
        "colab": {
          "base_uri": "https://localhost:8080/"
        },
        "id": "06R5yBYzZ4mb",
        "outputId": "43c3c1ea-46d5-40d1-cd57-6c04d5cc89e5"
      },
      "execution_count": 20,
      "outputs": [
        {
          "output_type": "stream",
          "name": "stdout",
          "text": [
            "1.7e+308\n",
            "inf\n"
          ]
        }
      ]
    },
    {
      "cell_type": "markdown",
      "source": [
        "Floating-point numbers are represented in computer hardware as base 2 (binary) fractions. For example, the decimal fraction $0.125$ has value $1/10 + 2/100 + 5/1000$, and in the same way the binary fraction 0.001 has value $0/2 + 0/4 + 1/8$. These two fractions have identical values, the only real difference being that the first is written in base 10 fractional notation, and the second in base 2.\n",
        "Unfortunately, most decimal fractions cannot be represented exactly as binary fractions. A consequence is that, in general, the decimal floating-point numbers you enter are only approximated by the binary floating-point numbers actually stored in the machine.\n",
        "\n",
        "The `float` type implements the `numbers.Real` abstract base class. Returns an expression which is converted into floating point number. `float` also has the following additional methods:"
      ],
      "metadata": {
        "id": "DNsoJdsfZnLh"
      }
    },
    {
      "cell_type": "markdown",
      "source": [
        "`float.as_integer_ratio()`: Returns a pair of integers whose ratio is exactly equal to the actual float having a positive denominator.In case of infinites, it raises overflow error and value errors on Not a number (NaNs)."
      ],
      "metadata": {
        "id": "OJZ651PkaXVR"
      }
    },
    {
      "cell_type": "code",
      "source": [
        "# Python3 program to illustrate\n",
        "# working of float.as_integer_ratio()\n",
        "  \n",
        "def frac(d):\n",
        "      \n",
        "    # Using as_integer_ratio\n",
        "    b = d.as_integer_ratio() \n",
        "      \n",
        "    return b \n",
        "# Driver code\n",
        "if __name__=='__main__':\n",
        "    b = frac(3.5) \n",
        "    print(b[0], \"/\", b[1])"
      ],
      "metadata": {
        "colab": {
          "base_uri": "https://localhost:8080/"
        },
        "id": "qIPofFe6aMHV",
        "outputId": "8125c354-95f0-452e-c37b-720b937af74e"
      },
      "execution_count": 21,
      "outputs": [
        {
          "output_type": "stream",
          "name": "stdout",
          "text": [
            "7 / 2\n"
          ]
        }
      ]
    },
    {
      "cell_type": "markdown",
      "source": [
        "`float.is_integer()`: Returns True in case the float instance is finite with integral value, else, False."
      ],
      "metadata": {
        "id": "qbaPER06aVKK"
      }
    },
    {
      "cell_type": "code",
      "source": [
        "\n",
        "# Python3 program to illustrate\n",
        "# working of float.is_integer()\n",
        "  \n",
        "def booln():\n",
        "      \n",
        "    # using is_integer\n",
        "    print((-5.0).is_integer())\n",
        "    print((4.8).is_integer())\n",
        "    print(float.is_integer(275.0))\n",
        "  \n",
        "# Driver code\n",
        "if __name__=='__main__':\n",
        "    booln()"
      ],
      "metadata": {
        "colab": {
          "base_uri": "https://localhost:8080/"
        },
        "id": "H3Yv8dIzaOs8",
        "outputId": "49e169fc-5086-4867-90be-af0c5598d91f"
      },
      "execution_count": 22,
      "outputs": [
        {
          "output_type": "stream",
          "name": "stdout",
          "text": [
            "True\n",
            "False\n",
            "True\n"
          ]
        }
      ]
    },
    {
      "cell_type": "markdown",
      "source": [
        "`float.hex()`: Returns a representation of a floating-point number as a hexadecimal string."
      ],
      "metadata": {
        "id": "o9sHEKjfaSX0"
      }
    },
    {
      "cell_type": "code",
      "source": [
        "# Python3 program to illustrate\n",
        "# working of float.hex()\n",
        "  \n",
        "def frac(a): \n",
        "      \n",
        "    # using float.hex()\n",
        "    a = float.hex(35.0)\n",
        "      \n",
        "    return a \n",
        "# Driver code\n",
        "if __name__=='__main__':\n",
        "    b = frac(35.0) \n",
        "    print(b)"
      ],
      "metadata": {
        "colab": {
          "base_uri": "https://localhost:8080/"
        },
        "id": "GCR7MnUYaQq7",
        "outputId": "81acec22-53e4-4699-858c-969748cb5c19"
      },
      "execution_count": 23,
      "outputs": [
        {
          "output_type": "stream",
          "name": "stdout",
          "text": [
            "0x1.1800000000000p+5\n"
          ]
        }
      ]
    },
    {
      "cell_type": "markdown",
      "source": [
        "`float.fromhex(s)` : Returns the float represented by a hexadecimal string s. String s may have leading and trailing whitespaces."
      ],
      "metadata": {
        "id": "LeTCfZZgabqF"
      }
    },
    {
      "cell_type": "code",
      "source": [
        "\n",
        "# Python3 program to illustrate\n",
        "# working of float.fromhex()\n",
        "  \n",
        "def frac(a):\n",
        "      \n",
        "    # using a float.fromhex()\n",
        "    a = float.fromhex('0x1.1800000000000p+5')\n",
        "      \n",
        "    return a\n",
        "      \n",
        "# Driver code    \n",
        "if __name__=='__main__':\n",
        "    b = frac('0x1.1800000000000p+5') \n",
        "    print(b)"
      ],
      "metadata": {
        "colab": {
          "base_uri": "https://localhost:8080/"
        },
        "id": "PaNCqVl0acyz",
        "outputId": "c1dfe19d-c5ae-44ee-fc74-560a54179f6e"
      },
      "execution_count": 24,
      "outputs": [
        {
          "output_type": "stream",
          "name": "stdout",
          "text": [
            "35.0\n"
          ]
        }
      ]
    },
    {
      "cell_type": "markdown",
      "source": [
        "### 9.3: Round-off Errors"
      ],
      "metadata": {
        "id": "2DvkPaKCZnOc"
      }
    },
    {
      "cell_type": "markdown",
      "source": [
        "Floating point numbers are represented in computers as base 2 fractions. This has a side effect that the floating point numbers can not be stored with perfect precision, instead the numbers are approximated by finite number of bytes. Therefore, the difference between an approximation of a number used in computation and its correct (true) value is called round-off error. It is one of the common errors usually in the numerical calculations. \n",
        "\n"
      ],
      "metadata": {
        "id": "tsxnQthQa9tR"
      }
    },
    {
      "cell_type": "code",
      "source": [
        "print(1.1 * 3) "
      ],
      "metadata": {
        "colab": {
          "base_uri": "https://localhost:8080/"
        },
        "id": "Uv_oidiBa8ni",
        "outputId": "35edc2bc-3dd7-4774-f9b0-16dfd9a45b30"
      },
      "execution_count": 26,
      "outputs": [
        {
          "output_type": "stream",
          "name": "stdout",
          "text": [
            "3.3000000000000003\n"
          ]
        }
      ]
    },
    {
      "cell_type": "markdown",
      "source": [
        "\n",
        "This happens because decimal values are actually stored as a formula and do not have an exact representation.\n",
        "We’re going to go over a solution to these inconsistencies, using a natively available library called Decimal."
      ],
      "metadata": {
        "id": "VtQvTDoTayz-"
      }
    },
    {
      "cell_type": "markdown",
      "source": [
        "#### Avoiding Floating Point Arithmetic Errors in Python"
      ],
      "metadata": {
        "id": "Y66o8_lmbgIB"
      }
    },
    {
      "cell_type": "markdown",
      "source": [
        "The key to avoiding floating point arithmetic errors in Python is using a natively available library called Decimal.\n",
        "\n",
        "> The decimal module provides support for fast correctly-rounded decimal floating point arithmetic."
      ],
      "metadata": {
        "id": "zpa86EAYbvar"
      }
    },
    {
      "cell_type": "markdown",
      "source": [
        "Let’s start by importing the library. There are multiple components to import so we’ll use the * symbol. Next, use the Decimal() constructor with a string value to create a new object and try the arithmetic again."
      ],
      "metadata": {
        "id": "g7TvREXccORr"
      }
    },
    {
      "cell_type": "code",
      "source": [
        "from decimal import *"
      ],
      "metadata": {
        "id": "vCjMOVmab546"
      },
      "execution_count": 27,
      "outputs": []
    },
    {
      "cell_type": "code",
      "source": [
        "print(Decimal('1.1') * 3) # 3.3"
      ],
      "metadata": {
        "colab": {
          "base_uri": "https://localhost:8080/"
        },
        "id": "A-PynBmXb62W",
        "outputId": "6cfdd296-4f97-4b62-f394-51fcb9c76548"
      },
      "execution_count": 28,
      "outputs": [
        {
          "output_type": "stream",
          "name": "stdout",
          "text": [
            "3.3\n"
          ]
        }
      ]
    },
    {
      "cell_type": "markdown",
      "source": [
        "Use `.quantize()` for rounding"
      ],
      "metadata": {
        "id": "h-fGH96PcozN"
      }
    },
    {
      "cell_type": "code",
      "source": [
        "a = Decimal('1.123456789')\n",
        "b = a.quantize(Decimal('1.00'))\n",
        "print(b) # 1.12"
      ],
      "metadata": {
        "colab": {
          "base_uri": "https://localhost:8080/"
        },
        "id": "iDctVT87cldV",
        "outputId": "58a3d206-2368-4c38-e5fe-da8cfb2c13fd"
      },
      "execution_count": 31,
      "outputs": [
        {
          "output_type": "stream",
          "name": "stdout",
          "text": [
            "1.12\n"
          ]
        }
      ]
    },
    {
      "cell_type": "markdown",
      "source": [
        "Use `getcontext()` to set precision"
      ],
      "metadata": {
        "id": "l9j-26xacr8_"
      }
    },
    {
      "cell_type": "code",
      "source": [
        "from decimal import *\n",
        "print(getcontext())\n",
        "print(Decimal(1)/Decimal(3))\n",
        "getcontext().prec = 4\n",
        "print(Decimal(1)/Decimal(3))\n"
      ],
      "metadata": {
        "colab": {
          "base_uri": "https://localhost:8080/"
        },
        "id": "_0mhGUTdcu8U",
        "outputId": "9ea3d43c-9266-4703-c412-83d7fe0e7994"
      },
      "execution_count": 33,
      "outputs": [
        {
          "output_type": "stream",
          "name": "stdout",
          "text": [
            "Context(prec=4, rounding=ROUND_HALF_EVEN, Emin=-999999, Emax=999999, capitals=1, clamp=0, flags=[Inexact, FloatOperation, Rounded], traps=[InvalidOperation, DivisionByZero, Overflow])\n",
            "0.3333\n",
            "0.3333\n"
          ]
        }
      ]
    }
  ]
}