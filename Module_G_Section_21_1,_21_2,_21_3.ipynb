{
  "nbformat": 4,
  "nbformat_minor": 0,
  "metadata": {
    "colab": {
      "name": "Module G: Section 21.1, 21.2, 21.3.ipynb",
      "provenance": [],
      "authorship_tag": "ABX9TyPH4jUoGP/2jKb8Wlkp0+TR",
      "include_colab_link": true
    },
    "kernelspec": {
      "name": "python3",
      "display_name": "Python 3"
    },
    "language_info": {
      "name": "python"
    }
  },
  "cells": [
    {
      "cell_type": "markdown",
      "metadata": {
        "id": "view-in-github",
        "colab_type": "text"
      },
      "source": [
        "<a href=\"https://colab.research.google.com/github/jljudge-gh/JupyterNotebooks-AppliedComputationalMethods/blob/main/Module_G_Section_21_1%2C_21_2%2C_21_3.ipynb\" target=\"_parent\"><img src=\"https://colab.research.google.com/assets/colab-badge.svg\" alt=\"Open In Colab\"/></a>"
      ]
    },
    {
      "cell_type": "markdown",
      "source": [
        "# **Module G:** Section 21.1, 21.2, 21.3"
      ],
      "metadata": {
        "id": "vPGkCKl74W3v"
      }
    },
    {
      "cell_type": "markdown",
      "source": [
        "### Numerical integration\n",
        "Scientific Python provides a number of integration routines. A general purpose tool to solve integrals I of the kind\n",
        "\n",
        "\n",
        "$$ I=\\int_a^b f(x) \\mathrm{d} x $$\n",
        "\n",
        "is provided by the quad() function of the scipy.integrate module.\n",
        "\n",
        "It takes as input arguments the function f(x) to be integrated (the “integrand”), and the lower and upper limits a and b. It returns two values (in a tuple): the first one is the computed results and the second one is an estimation of the numerical error of that result.\n",
        "\n",
        "Here is an example: which produces this output:"
      ],
      "metadata": {
        "id": "Xgo0S8Gz4fNb"
      }
    },
    {
      "cell_type": "code",
      "source": [
        "from math import cos, exp, pi\n",
        "from scipy.integrate import quad\n",
        "\n",
        "# function we want to integrate\n",
        "def f(x):\n",
        "    return exp(cos(-2 * x * pi)) + 3.2\n",
        "\n",
        "# call quad to integrate f from -2 to 2\n",
        "res, err = quad(f, -2, 2)\n",
        "\n",
        "print(\"The numerical result is {:f} (+-{:g})\"\n",
        "    .format(res, err))"
      ],
      "metadata": {
        "colab": {
          "base_uri": "https://localhost:8080/"
        },
        "id": "VwTCBlin48vU",
        "outputId": "a018f05a-1281-41e7-b29e-baa0b11c9680"
      },
      "execution_count": 1,
      "outputs": [
        {
          "output_type": "stream",
          "name": "stdout",
          "text": [
            "The numerical result is 17.864264 (+-1.55117e-11)\n"
          ]
        }
      ]
    },
    {
      "cell_type": "markdown",
      "source": [
        "Note that quad() takes optional parameters epsabs and epsrel to increase or decrease the accuracy of its computation. (Use help(quad) to learn more.) The default values are epsabs=1.5e-8 and epsrel=1.5e-8. For the next exercise, the default values are sufficient."
      ],
      "metadata": {
        "id": "Tup5-R7F4_JD"
      }
    },
    {
      "cell_type": "markdown",
      "source": [
        "### Solving ordinary differential equations"
      ],
      "metadata": {
        "id": "jcdq0mca4_vr"
      }
    },
    {
      "cell_type": "markdown",
      "source": [
        "To solve an ordinary differential equation of the type\n",
        "$$ \\frac{\\mathrm{d}y}{\\mathrm{d}t}(t) = f(y,t) $$\n",
        "with a given  $y(t0)=y_0$, we can use scipy’s odeint function. Here is a (self explaining) example program (`useodeint.py`) to find"
      ],
      "metadata": {
        "id": "VQaf8J1C5G8q"
      }
    },
    {
      "cell_type": "code",
      "source": [
        "%matplotlib inline\n",
        "from scipy.integrate import odeint\n",
        "import numpy as N\n",
        "\n",
        "def f(y, t):\n",
        "    \"\"\"this is the rhs of the ODE to integrate, i.e. dy/dt=f(y,t)\"\"\"\n",
        "    return -2 * y * t\n",
        "\n",
        "y0 = 1             # initial value\n",
        "a = 0              # integration limits for t\n",
        "b = 2\n",
        "\n",
        "t = N.arange(a, b, 0.01)  # values of t for\n",
        "                          # which we require\n",
        "                          # the solution y(t)\n",
        "y = odeint(f, y0, t)  # actual computation of y(t)\n",
        "\n",
        "import pylab          # plotting of results\n",
        "pylab.plot(t, y)\n",
        "pylab.xlabel('t'); pylab.ylabel('y(t)')"
      ],
      "metadata": {
        "colab": {
          "base_uri": "https://localhost:8080/",
          "height": 297
        },
        "id": "-FdgSwyD5YDi",
        "outputId": "84c28467-8a8a-430e-c8df-5b1fde9fe641"
      },
      "execution_count": 2,
      "outputs": [
        {
          "output_type": "execute_result",
          "data": {
            "text/plain": [
              "Text(0, 0.5, 'y(t)')"
            ]
          },
          "metadata": {},
          "execution_count": 2
        },
        {
          "output_type": "display_data",
          "data": {
            "text/plain": [
              "<Figure size 432x288 with 1 Axes>"
            ],
            "image/png": "[encoded data removed]"
          },
          "metadata": {
            "needs_background": "light"
          }
        }
      ]
    },
    {
      "cell_type": "markdown",
      "source": [
        "The `odeint` command takes a number of optional parameters to change the default error tolerance of the integration (and to trigger the production of extra debugging output)."
      ],
      "metadata": {
        "id": "Cmt4YEvh5bYr"
      }
    },
    {
      "cell_type": "markdown",
      "source": [
        "### Root finding\n",
        "If you try to find a $ x $ such that\n",
        "$$ f(x)=0$$ \n",
        " \n",
        "then this is called root finding. Note that problems like $ g(x)=h(x) $ fall in this category as you can rewrite them as $ f(x)=g(x)−h(x)=0 $.\n",
        "\n",
        "A number of root finding tools are available in scipy’s optimize module."
      ],
      "metadata": {
        "id": "wGgG_nSP5iLY"
      }
    },
    {
      "cell_type": "markdown",
      "source": [
        "#### Root finding using the bisection method\n",
        "irst we introduce the bisect algorithm which is (i) robust and (ii) slow but conceptually very simple.\n",
        "\n",
        "Suppose we need to compute the roots of $f(x)=x^3 − 2x^2$. This function has a (double) root at $x = 0$ (this is trivial to see) and another root which is located between $x = 1.5$ (where $f(1.5)= − 1.125)$ and $x = 3$ (where $f(3)=9$). It is pretty straightforward to see that this other root is located at $x = 2$. Here is a program that determines this root numerically:"
      ],
      "metadata": {
        "id": "iNs5-I1p5pzP"
      }
    },
    {
      "cell_type": "code",
      "source": [
        "from scipy.optimize import bisect\n",
        "\n",
        "def f(x):\n",
        "    \"\"\"returns f(x)=x^3-2x^2. Has roots at\n",
        "    x=0 (double root) and x=2\"\"\"\n",
        "    return x ** 3 - 2 * x ** 2\n",
        "\n",
        "# main program starts here\n",
        "x = bisect(f, 1.5, 3, xtol=1e-6)\n",
        "\n",
        "print(\"The root x is approximately x=%14.12g,\\n\"\n",
        "      \"the error is less than 1e-6.\" % (x))\n",
        "print(\"The exact error is %g.\" % (2 - x))"
      ],
      "metadata": {
        "colab": {
          "base_uri": "https://localhost:8080/"
        },
        "id": "m-N37FJE54bp",
        "outputId": "56c585d5-42e8-4a3c-d1be-b272b84795bc"
      },
      "execution_count": 3,
      "outputs": [
        {
          "output_type": "stream",
          "name": "stdout",
          "text": [
            "The root x is approximately x= 2.00000023842,\n",
            "the error is less than 1e-6.\n",
            "The exact error is -2.38419e-07.\n"
          ]
        }
      ]
    },
    {
      "cell_type": "markdown",
      "source": [
        "The `bisect()` method takes three compulsory arguments: (i) the function f(x), (ii) a lower limit a (for which we have chosen 1.5 in our example) and (ii) an upper limit b (for which we have chosen 3). The optional parameter xtol determines the maximum error of the method.\n",
        "\n",
        "One of the requirements of the bisection method is that the interval `[a, b]` has to be chosen such that the function is either positive at a and negative at b, or that the function is negative at a and postive at b. In other words: a and b have to enclose a root."
      ],
      "metadata": {
        "id": "LQzQn_3u5721"
      }
    },
    {
      "cell_type": "markdown",
      "source": [
        "#### Interpolation"
      ],
      "metadata": {
        "id": "DQ-bEW376B5O"
      }
    },
    {
      "cell_type": "markdown",
      "source": [
        "Given a set of $N$ points $ (xi, yi) $ with $ i = 1, 2, …N $, we sometimes need a function  $\\hat{f}(x)$  which returns $ y_i = f(x_i) $ where $ x==x_i $, and which in addition provides some interpolation of the data $ (x_i, y_i) $ for all $ x $.\n",
        "\n",
        "The function `y0 = scipy.interpolate.interp1d(x,y,kind=’nearest’)` does this interpolation based on splines of varying order. Note that the function `interp1d` returns a function `y0` which will then interpolate the x-y data for any given ` x ` when called as ` y0(x) `.\n",
        "\n",
        "The code below demonstrates this, and shows the different interpolation kinds."
      ],
      "metadata": {
        "id": "x5VpB6KR6ED-"
      }
    },
    {
      "cell_type": "code",
      "source": [
        "import numpy as np\n",
        "import scipy.interpolate\n",
        "import pylab\n",
        "\n",
        "def create_data(n):\n",
        "    \"\"\"Given an integer n, returns n data points\n",
        "    x and values y as a numpy.array.\"\"\"\n",
        "    xmax = 5.\n",
        "    x = np.linspace(0, xmax, n)\n",
        "    y = - x**2\n",
        "    #make x-data somewhat irregular\n",
        "    y += 1.5 * np.random.normal(size=len(x))\n",
        "    return x, y\n",
        "\n",
        "#main program\n",
        "n = 10\n",
        "x, y = create_data(n)\n",
        "\n",
        "#use finer and regular mesh for plot\n",
        "xfine = np.linspace(0.1, 4.9, n * 100)\n",
        "#interpolate with piecewise constant function (p=0)\n",
        "y0 = scipy.interpolate.interp1d(x, y, kind='nearest')\n",
        "#interpolate with piecewise linear func (p=1)\n",
        "y1 = scipy.interpolate.interp1d(x, y, kind='linear')\n",
        "#interpolate with piecewise constant func (p=2)\n",
        "y2 = scipy.interpolate.interp1d(x, y, kind='quadratic')\n",
        "\n",
        "pylab.plot(x, y, 'o', label='data point')\n",
        "pylab.plot(xfine, y0(xfine), label='nearest')\n",
        "pylab.plot(xfine, y1(xfine), label='linear')\n",
        "pylab.plot(xfine, y2(xfine), label='cubic')\n",
        "pylab.legend()\n",
        "pylab.xlabel('x')"
      ],
      "metadata": {
        "colab": {
          "base_uri": "https://localhost:8080/",
          "height": 297
        },
        "id": "BMpkxmbW6iSK",
        "outputId": "1ebb0dd2-5849-4dc2-ad95-d265f0d92360"
      },
      "execution_count": 4,
      "outputs": [
        {
          "output_type": "execute_result",
          "data": {
            "text/plain": [
              "Text(0.5, 0, 'x')"
            ]
          },
          "metadata": {},
          "execution_count": 4
        },
        {
          "output_type": "display_data",
          "data": {
            "text/plain": [
              "<Figure size 432x288 with 1 Axes>"
            ],
            "image/png": "[encoded data removed]"
          },
          "metadata": {
            "needs_background": "light"
          }
        }
      ]
    },
    {
      "cell_type": "markdown",
      "source": [
        "### Curve fitting\n",
        "We have already seen in the numpy chapter that we can fit polynomial functions through a data set using the `numpy.polyfit` function. Here, we introduce a more generic curve fitting algorithm.\n",
        "\n",
        "Scipy provides a somewhat generic function (based on the Levenburg-Marquardt algorithm )through `scipy.optimize.curve_fit` to fit a given (Python) function to a given data set. The assumption is that we have been given a set of data with points  `x1, x2, …xN ` and with corresponding function values  yi  and a dependence of  `yi`  on  `xi`  such that  `yi=f(xi,p )` . We want to determine the parameter vector ` p =(p1,p2,…,pk)`  so that  `r` , the sum of the residuals, is as small as possible:\n",
        "\n",
        "$$ r = \\sum\\limits_{i=1}^N \\left(y_i - f(x_i, \\vec{p})\\right)^2\n",
        "$$\n",
        "\n",
        "Curve fitting is of particular use if the data is noisy: for a given $ x_i $ and $ y_i=f(x_i,\\vec{p}) $ we have a (unknown) error term  $\\epsilon_i$  so that $y_i=f(x_i,\\vec{p})+\\epsilon_i $.\n",
        "\n",
        "We use the following example to clarify this:"
      ],
      "metadata": {
        "id": "M43-DnPK6kkT"
      }
    },
    {
      "cell_type": "code",
      "source": [
        "import numpy as np\n",
        "from scipy.optimize import curve_fit\n",
        "\n",
        "\n",
        "def f(x, a, b, c):\n",
        "    \"\"\"Fit function y=f(x,p) with parameters p=(a,b,c). \"\"\"\n",
        "    return a * np.exp(- b * x) + c\n",
        "\n",
        "#create fake data\n",
        "x = np.linspace(0, 4, 50)\n",
        "y = f(x, a=2.5, b=1.3, c=0.5)\n",
        "#add noise\n",
        "yi = y + 0.2 * np.random.normal(size=len(x))\n",
        "\n",
        "#call curve fit function\n",
        "popt, pcov = curve_fit(f, x, yi)\n",
        "a, b, c = popt\n",
        "print(\"Optimal parameters are a=%g, b=%g, and c=%g\" % (a, b, c))\n",
        "\n",
        "#plotting\n",
        "import pylab\n",
        "yfitted = f(x, *popt)   # equivalent to f(x, popt[0], popt[1], popt[2])\n",
        "pylab.plot(x, yi, 'o', label='data $y_i$')\n",
        "pylab.plot(x, yfitted, '-', label='fit $f(x_i)$')\n",
        "pylab.xlabel('x')\n",
        "pylab.legend()\n"
      ],
      "metadata": {
        "colab": {
          "base_uri": "https://localhost:8080/",
          "height": 315
        },
        "id": "JbalBTeN7NpE",
        "outputId": "1a299a67-ab57-440e-d2ed-cadec3ebe2a9"
      },
      "execution_count": 5,
      "outputs": [
        {
          "output_type": "stream",
          "name": "stdout",
          "text": [
            "Optimal parameters are a=2.55302, b=1.2408, and c=0.456132\n"
          ]
        },
        {
          "output_type": "execute_result",
          "data": {
            "text/plain": [
              "<matplotlib.legend.Legend at 0x7fdd3a40cd90>"
            ]
          },
          "metadata": {},
          "execution_count": 5
        },
        {
          "output_type": "display_data",
          "data": {
            "text/plain": [
              "<Figure size 432x288 with 1 Axes>"
            ],
            "image/png": "[encoded data removed]"
          },
          "metadata": {
            "needs_background": "light"
          }
        }
      ]
    },
    {
      "cell_type": "markdown",
      "source": [
        "Note that in the source code above we define the fitting function  $y = f(x) $ through Python code. We can thus fit (nearly) arbitrary functions using the curve_fit method.\n",
        "\n",
        "The `curve_fit` function returns a tuple `popt`, `pcov`. The first entry `popt` contains a tuple of the OPTimal Parameters (in the sense that these minimise equation ([eq:1]). The second entry contains the covariance matrix for all parameters. The diagonals provide the variance of the parameter estimations.\n",
        "\n",
        "For the curve fitting process to work, the Levenburg-Marquardt algorithm needs to start the fitting process with initial guesses for the final parameters. If these are not specified (as in the example above), the value “1.0“ is used for the initial guess.\n",
        "\n",
        "If the algorithm fails to fit a function to data (even though the function describes the data reasonably), we need to give the algorithm better estimates for the initial parameters. For the example shown above, we could give the estimates to the `curve_fit` function by changing the line\n",
        "\n",
        "```\n",
        "popt, pcov = curve_fit(f, x, yi)\n",
        "```\n",
        "to\n",
        "```\n",
        "popt, pcov = curve_fit(f, x, yi, p0=(2,1,0.6))\n",
        "\n",
        "```\n",
        "\n",
        "if our initial guesses would be a = 2, b = 1 and c = 0.6. Once we take the algorithm “roughly in the right area” in parameter space, the fitting usually works well.\n",
        "\n"
      ],
      "metadata": {
        "id": "zNJL446J7Pv0"
      }
    }
  ]
}