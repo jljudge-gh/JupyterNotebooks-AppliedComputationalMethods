{
  "nbformat": 4,
  "nbformat_minor": 0,
  "metadata": {
    "colab": {
      "name": "Module H: Section 22.1, 22.2, 22.3.ipynb",
      "provenance": [],
      "authorship_tag": "ABX9TyNR8yNk0+/Ro0VV0/GUmjk+",
      "include_colab_link": true
    },
    "kernelspec": {
      "name": "python3",
      "display_name": "Python 3"
    },
    "language_info": {
      "name": "python"
    }
  },
  "cells": [
    {
      "cell_type": "markdown",
      "metadata": {
        "id": "view-in-github",
        "colab_type": "text"
      },
      "source": [
        "<a href=\"https://colab.research.google.com/github/jljudge-gh/JupyterNotebooks-AppliedComputationalMethods/blob/main/Module_H_Section_22_1%2C_22_2%2C_22_3.ipynb\" target=\"_parent\"><img src=\"https://colab.research.google.com/assets/colab-badge.svg\" alt=\"Open In Colab\"/></a>"
      ]
    },
    {
      "cell_type": "markdown",
      "source": [
        "# **Module H:** Section 22.1, 22.2, 22.3\n",
        "\n"
      ],
      "metadata": {
        "id": "vPGkCKl74W3v"
      }
    },
    {
      "cell_type": "markdown",
      "source": [
        "## **Ordinary Differential Equation (ODE) in Python**\n"
      ],
      "metadata": {
        "id": "Xgo0S8Gz4fNb"
      }
    },
    {
      "cell_type": "markdown",
      "source": [
        "### Solving a sigmoidal signal-response curve using ODE in Python\n"
      ],
      "metadata": {
        "id": "DndGArmlCxYm"
      }
    },
    {
      "cell_type": "markdown",
      "source": [
        "A sigmoidal signal-response curve describes a system like below:\n",
        "![image.png](https://miro.medium.com/max/1400/1*Q2uZut_TLK9qurq7i09EUw.png)\n"
      ],
      "metadata": {
        "id": "oFyLvUdpCTKX"
      }
    },
    {
      "cell_type": "markdown",
      "source": [
        "It is the phosphorylation process that happened in our body, R is the substance, which will be converted to the phosphorylated form Rp to exert a lot of functions, this process is catalyzed by Signal S, and the ATP hydrolysis accompanying that. To describe this process, the original paper utilized the following ODE:\n",
        "\n",
        "$$\n",
        "\\frac{d R_{p}}{d t}=\\frac{k_{1} S\\left(R_{T}-R_{P}\\right)}{k_{m 1}+R_{T}-R_{P}}-\\frac{k_{2} R_{P}}{k_{m 2}+R_{P}}\n",
        "$$"
      ],
      "metadata": {
        "id": "nCBB4KYi9CLy"
      }
    },
    {
      "cell_type": "markdown",
      "source": [
        "Now we first want to solve this equation, meaning to obtain the ***solution curve*** that describes how Rp would change with time."
      ],
      "metadata": {
        "id": "TUtL5NbpCQ3v"
      }
    },
    {
      "cell_type": "code",
      "source": [
        "from scipy.integrate import odeint\n",
        "import numpy as np\n",
        "import matplotlib.pyplot as plt\n",
        "def model(Rp,t,S):\n",
        "    k1 = 1\n",
        "    k2 = 1\n",
        "    Rt = 1\n",
        "    km1 = 0.05\n",
        "    km2 = 0.05\n",
        "    dRpdt = (k1*S*(Rt-Rp)/(km1+Rt-Rp)) - k2*Rp/(km2+Rp)\n",
        "    return dRpdt"
      ],
      "metadata": {
        "id": "as8R0sSf84wH"
      },
      "execution_count": 3,
      "outputs": []
    },
    {
      "cell_type": "markdown",
      "source": [
        "The above code is just to set up the model as we described using a mathematical equation, here some parameters similar to those provided in the [original source](https://www.sciencedirect.com/science/article/abs/pii/S0955067403000176).\n",
        "We set the signal strength as 1, but it is really just for illustration. Then we set the initial value of Rp to three different possibilities: 0, 0.3, and 1. It can show us how different initialization will finally converge to the steady-state. We set the simulation time window from 0 to 20 just for simplicity. Finally, we use odeint function to solve this ODE."
      ],
      "metadata": {
        "id": "6gXL0o7bB6kl"
      }
    },
    {
      "cell_type": "code",
      "source": [
        "S = 1\n",
        "Rp0 = [0,0.3,1]\n",
        "t = np.linspace(0,20,200)\n",
        "result = odeint(model,Rp0,t,args=(S,))"
      ],
      "metadata": {
        "id": "m-_CNTlh9Fgj"
      },
      "execution_count": 4,
      "outputs": []
    },
    {
      "cell_type": "markdown",
      "source": [
        "The `result` object is a NumPy array of the shape [200,3], 3 corresponds to three initialization conditions. Now we plot that:"
      ],
      "metadata": {
        "id": "9O_iWCcOB2ou"
      }
    },
    {
      "cell_type": "code",
      "source": [
        "fig,ax = plt.subplots()\n",
        "ax.plot(t,result[:,0],label='R0=0')\n",
        "ax.plot(t,result[:,1],label='R0=0.3')\n",
        "ax.plot(t,result[:,2],label='R0=1')\n",
        "ax.legend()\n",
        "ax.set_xlabel('t')\n",
        "ax.set_ylabel('Rp')"
      ],
      "metadata": {
        "colab": {
          "base_uri": "https://localhost:8080/",
          "height": 297
        },
        "id": "QdD3uoP29FjK",
        "outputId": "c2e8e22f-46a4-468e-a0b4-a0f6481cc4d4"
      },
      "execution_count": 5,
      "outputs": [
        {
          "output_type": "execute_result",
          "data": {
            "text/plain": [
              "Text(0, 0.5, 'Rp')"
            ]
          },
          "metadata": {},
          "execution_count": 5
        },
        {
          "output_type": "display_data",
          "data": {
            "text/plain": [
              "<Figure size 432x288 with 1 Axes>"
            ],
            "image/png": "[encoded data removed]"
          },
          "metadata": {
            "needs_background": "light"
          }
        }
      ]
    },
    {
      "cell_type": "markdown",
      "source": [
        "Here we can see, no matter where the Rp starts, they will converge to somewhere around 0.5, and this is called a ***steady-state***. Steady-state is the gist of ODE because it defines the default behavior of a dynamic system. You may wonder why we call it a sigmoidal signal response curve? That is because apart from solving the solution curve, we are also interested in knowing how the signal strength will act upon the whole system, in ODE language, how signal strength will change the steady-state of the system? Now we are going to explore it!\n",
        "\n",
        "\n",
        "Mathematically, a steady-state of a system is basically the root of the formula when setting dRp/dt = 0. A better illustration is as below:\n",
        "\n",
        "$$\n",
        "\\begin{gathered}\n",
        "\\frac{d R_{p}}{d t}=0 \\\\\n",
        "\\frac{k_{1} S\\left(R_{T}-R_{P}\\right)}{k_{m 1}+R_{T}-R_{P}}-\\frac{k_{2} R_{P}}{k_{m 2}+R_{P}}=0\n",
        "\\end{gathered}\n",
        " $$\n",
        "\n",
        " So if we can solve the last equation with respect to Rp, we will have the value of Rp in the steady-state."
      ],
      "metadata": {
        "id": "A31mauTsBm9M"
      }
    },
    {
      "cell_type": "code",
      "source": [
        "S_all = np.linspace(0,3,100)\n",
        "def equation(Rp,S):\n",
        "    k1 = 1\n",
        "    k2 = 1\n",
        "    Rt = 1\n",
        "    km1 = 0.05\n",
        "    km2 = 0.05\n",
        "    return k1*S*(Rt-Rp)/(km1+Rt-Rp) - k2*Rp/(km2+Rp)\n",
        "\n",
        "from scipy.optimize import fsolve\n",
        "store = []\n",
        "for S in S_all:\n",
        "    Rp_ss = fsolve(equation,[1],args=(S,))[0]\n",
        "    store.append(Rp_ss)"
      ],
      "metadata": {
        "id": "rZNJNebC9Flh"
      },
      "execution_count": 6,
      "outputs": []
    },
    {
      "cell_type": "markdown",
      "source": [
        "We first set the range of signal S from 0–3, then we use `fsolve` function from `scipy.optimizeto` do the job. The result basically will be the Rp value when S is equal to the different values within 0–3."
      ],
      "metadata": {
        "id": "GgYu1uCqBawB"
      }
    },
    {
      "cell_type": "code",
      "source": [
        "fig,ax = plt.subplots()\n",
        "ax.plot(S_all,store,c='k')\n",
        "ax.set_xlim(0,3)\n",
        "ax.set_xlabel('Signal(S)')\n",
        "ax.set_ylim(0,1.1)\n",
        "ax.set_ylabel('Response(R_ss)')"
      ],
      "metadata": {
        "colab": {
          "base_uri": "https://localhost:8080/",
          "height": 297
        },
        "id": "6L7icZsT9Fnt",
        "outputId": "aebdb7c9-fbb1-47e0-85bd-6c44b35becbe"
      },
      "execution_count": 7,
      "outputs": [
        {
          "output_type": "execute_result",
          "data": {
            "text/plain": [
              "Text(0, 0.5, 'Response(R_ss)')"
            ]
          },
          "metadata": {},
          "execution_count": 7
        },
        {
          "output_type": "display_data",
          "data": {
            "text/plain": [
              "<Figure size 432x288 with 1 Axes>"
            ],
            "image/png": "[encoded data removed]"
          },
          "metadata": {
            "needs_background": "light"
          }
        }
      ]
    },
    {
      "cell_type": "markdown",
      "source": [
        "Now, it's clear why it is called the sigmoidal signal-response curve because as the strength of the signal changes, the steady-state of the system will respond in a sigmoidal manner."
      ],
      "metadata": {
        "id": "giXBenAyBWVE"
      }
    }
  ]
}